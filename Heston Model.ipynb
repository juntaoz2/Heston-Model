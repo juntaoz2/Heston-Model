{
 "cells": [
  {
   "cell_type": "markdown",
   "metadata": {},
   "source": [
    "STEP 1: Build the Heston Model"
   ]
  },
  {
   "cell_type": "code",
   "execution_count": 1,
   "metadata": {},
   "outputs": [],
   "source": [
    "import numpy as np\n",
    "import pandas as pd\n",
    "import sys\n",
    "import math\n",
    "import matplotlib as mpl\n",
    "from scipy.optimize import brute, fmin"
   ]
  },
  {
   "cell_type": "markdown",
   "metadata": {},
   "source": [
    "1. We define f"
   ]
  },
  {
   "cell_type": "code",
   "execution_count": 2,
   "metadata": {},
   "outputs": [],
   "source": [
    "i = complex(0, 1)\n",
    "\n",
    "# To be used in the Heston pricer\n",
    "def fHeston(s, St, K, r, T, sigma, kappa, theta, volvol, rho):\n",
    "    # To be used a lot\n",
    "    prod = rho * sigma * i * s\n",
    "\n",
    "    # Calculate d\n",
    "    #d1 = (prod - kappa)**2\n",
    "    #d2 = (sigma**2) * (i * s + s**2)\n",
    "    #d = np.sqrt(d1 + d2)\n",
    "    d = np.sqrt(prod**2-(sigma**2)*(2*i*s-s**2))\n",
    "\n",
    "    # Calculate g\n",
    "    g1 = kappa - prod - d\n",
    "    g2 = kappa - prod + d\n",
    "    g = g1 / g2\n",
    "\n",
    "    # Calculate first exponential\n",
    "    #exp1 = np.exp(np.log(St) * i * s) * np.exp(i * s * r * T)\n",
    "    exp1 = (St ** (i * s)) * np.exp(i * s * r * T)\n",
    "    exp2 = 1 - g * np.exp(-d * T)\n",
    "    exp3 = 1 - g\n",
    "    mainExp1 = exp1 * np.power(exp2 / exp3, (-2 * theta * kappa) / (sigma**2))\n",
    "\n",
    "    # Calculate second exponential\n",
    "    exp4 = theta * kappa * T / (sigma**2)\n",
    "    exp5 = volvol / (sigma**2)\n",
    "    exp6 = (1 - np.exp(-d * T)) / (1 - g * np.exp(-d * T))\n",
    "    mainExp2 = np.exp((exp4 * g1) + (exp5 * g1 * exp6))\n",
    "\n",
    "    return (mainExp1 * mainExp2)\n"
   ]
  },
  {
   "cell_type": "markdown",
   "metadata": {},
   "source": [
    "2. We calculate integral"
   ]
  },
  {
   "cell_type": "code",
   "execution_count": 3,
   "metadata": {},
   "outputs": [],
   "source": [
    "# Heston Pricer\n",
    "def priceHestonMid(St, K, r, T, sigma, kappa, theta, volvol, rho):\n",
    "    P, iterations, maxNumber = 0, 1000, 100\n",
    "    ds = maxNumber / iterations\n",
    "    element1 = 0.5 * (St - K * np.exp(-r * T))\n",
    "    # Calculate the complex integral\n",
    "    # Using j instead of i to avoid confusion\n",
    "    for j in range(1, iterations):\n",
    "        s1 = ds * (2 * j + 1) / 2\n",
    "        s2 = s1 - i\n",
    "        #numerator1 = fHeston(s2, St, K, r, T, sigma, kappa, theta, volvol, rho) \n",
    "        numerator1 = np.exp(r * T) * fHeston(s2, St, K, r, T, sigma, kappa, theta, volvol, rho)\n",
    "        numerator2 = K * fHeston(s1, St, K, r, T, sigma, kappa, theta, volvol, rho)\n",
    "        denominator = np.exp(np.log(K) * i * s1) * i * s1\n",
    "        P += ds * (numerator1 - numerator2) / denominator\n",
    "    element2 = P / np.pi\n",
    "    return np.real((element1 + element2))"
   ]
  },
  {
   "cell_type": "markdown",
   "metadata": {},
   "source": [
    "Now, let's calculating option Greeks. We are only using European options. "
   ]
  },
  {
   "cell_type": "code",
   "execution_count": 6,
   "metadata": {},
   "outputs": [],
   "source": [
    "def get_delta(s, k, rf, vol, t):\n",
    "    d1 = (math.log(s/k) + (rf +  math.pow(vol, 2)/2 ) * t ) / (vol * math.sqrt(t) )\n",
    "    d2 = d1 - vol * math.sqrt(t)\n",
    "    delta = norm.cdf(d1)\n",
    "    return delta"
   ]
  },
  {
   "cell_type": "code",
   "execution_count": null,
   "metadata": {},
   "outputs": [],
   "source": [
    "def get_gamma(s, k, rf, vol, t,ds = 0.01):\n",
    "    s += ds\n",
    "    delta = get_delta(s, k, rf, vol, t)\n",
    "    after_delta = delta\n",
    "    s -= ds\n",
    "    get_price_delta(s, k, rf, vol, t)\n",
    "    orig_delta = delta\n",
    "    gamma = (after_delta - orig_delta) / ds\n",
    "    return gamma"
   ]
  },
  {
   "cell_type": "code",
   "execution_count": null,
   "metadata": {},
   "outputs": [],
   "source": [
    "def get_theta(s, k, rf, vol, t, dt = 0.0027777):\n",
    "    t += dt\n",
    "    after_price = priceHestonMid() #heston model price \n",
    "    t -= dt\n",
    "    orig_price = priceHestonMid() #heston model price \n",
    "    theta = (after_price - orig_price) / dt#* (-1)\n",
    "    return theta"
   ]
  }
 ],
 "metadata": {
  "kernelspec": {
   "display_name": "Python 3",
   "language": "python",
   "name": "python3"
  },
  "language_info": {
   "codemirror_mode": {
    "name": "ipython",
    "version": 3
   },
   "file_extension": ".py",
   "mimetype": "text/x-python",
   "name": "python",
   "nbconvert_exporter": "python",
   "pygments_lexer": "ipython3",
   "version": "3.8.3"
  }
 },
 "nbformat": 4,
 "nbformat_minor": 4
}
